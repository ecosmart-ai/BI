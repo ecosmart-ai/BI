{
 "cells": [
  {
   "cell_type": "markdown",
   "metadata": {
    "colab_type": "text",
    "id": "rt81KMzg8Qks"
   },
   "source": [
    "# IAB303 - Assignment 1\n",
    "## Foundational Data Analytics Techniques\n",
    "\n",
    "#### INSTRUCTIONS\n",
    "\n",
    "1. Complete the section below with your personal details (and run the cell)\n",
    "2. Complete the full **QDAVI** data analytics cycle for **ONE** scenario selected from the choices below. Ensure that you complete the cycle by addressing the question with your insights.\n",
    "3. Ensure that you use markdown cells to document your thinking and decision making for each stage of the process. Be clear on how your decisions are working towards addressing the question.\n",
    "4. Ensure that your code runs without errors, and that your results are appropriate for the question.\n",
    "5. Use comments in your code to explain what you are doing\n",
    "6. Before handing in your notebook, clear all cell outputs and run the complete notebook. Ensure that it runs without errors and that all output is displaying\n",
    "7. Right-click on your notebook name (in file viewer) and select download. Ensure that your name and student ID are on the file, and then upload to the appropriate assignment upload link in blackboard."
   ]
  },
  {
   "cell_type": "code",
   "execution_count": null,
   "metadata": {
    "colab": {},
    "colab_type": "code",
    "collapsed": false,
    "id": "mX16upWR8Qku",
    "outputId": "bc60ed0d-38af-4f33-def6-5a5bbc3ebf42"
   },
   "outputs": [
    {
     "ename": "SyntaxError",
     "evalue": "invalid syntax (<ipython-input-10-ceae38b52ac1>, line 5)",
     "output_type": "error",
     "traceback": [
      "\u001b[0;36m  File \u001b[0;32m\"<ipython-input-10-ceae38b52ac1>\"\u001b[0;36m, line \u001b[0;32m5\u001b[0m\n\u001b[0;31m    first_name = ???\u001b[0m\n\u001b[0m                 ^\u001b[0m\n\u001b[0;31mSyntaxError\u001b[0m\u001b[0;31m:\u001b[0m invalid syntax\n"
     ]
    }
   ],
   "source": [
    "# Complete the following cell with your details and run to produce your personalised header for this assignment\n",
    "\n",
    "from IPython.core.display import display, HTML\n",
    "\n",
    "first_name = ???\n",
    "last_name = ???\n",
    "student_number = ???\n",
    "\n",
    "personal_header = \"<h1>\"+first_name+\" \"+last_name+\" (\"+student_number+\")</h1>\"\n",
    "display(HTML(personal_header))"
   ]
  },
  {
   "cell_type": "markdown",
   "metadata": {
    "colab_type": "text",
    "id": "_RthhSE78QlA"
   },
   "source": [
    "---\n",
    "\n",
    "## SCENARIOS\n",
    "\n",
    "### Pick one of the following scenarios for your Data Analysis: \n",
    "\n",
    "1. Your small business client is a local Brisbane coffee shop which is gaining popularity. The owner is wanting to capitalise on this popularity by opening two drive-through coffee outlets on busy Brisbane roads in two of the following areas (Bayside, Inner North, Inner South, or Western Suburbs). They want to know what location might be best, and why, and the location of competitors and how they are marketing their products.\n",
    "\n",
    "2. Your company specialises in travel advise for tourists coming to Australia. They are looking to create an app that provides low cost experiences around Brisbane by linking together public transport, public parks and spaces, museums, galleries, and also free public events. They would like to know if this idea is possible.\n",
    "\n",
    "3. A group of surfers want to start a business that connects tourists with a 24 hour surfing experience on north or south coasts, involving over night accommodation and transport to a local surf spot. In order to deliver best experience within a fixed cost, they need to balance distance and traffic with weather and wave height. They want to know the best period of the year to run this service, which areas should be used for the overnight accommodation, and whether they can get near realtime data to allow them to decide whe which beach they are travelling to before  5:00am (their planned pickup time from the hotel).\n",
    "\n",
    "---"
   ]
  },
  {
   "cell_type": "markdown",
   "metadata": {
    "colab_type": "text",
    "id": "UXEz_3ja8QlI"
   },
   "source": [
    "\n",
    "### SCENARIO1\n",
    "\n",
    "I chosed the scenario 1 , the aim is to give advices to a small business who wants to open new drive-thru coffe shops. The first concern of the client is to identify the best locations to open the shops. \n"
   ]
  },
  {
   "cell_type": "code",
   "execution_count": 91,
   "metadata": {
    "colab": {
     "base_uri": "https://localhost:8080/",
     "height": 235
    },
    "colab_type": "code",
    "collapsed": false,
    "executionInfo": {
     "elapsed": 5229,
     "status": "ok",
     "timestamp": 1598018816401,
     "user": {
      "displayName": "elias zgheib",
      "photoUrl": "",
      "userId": "06452864583585306483"
     },
     "user_tz": -120
    },
    "id": "VhClMP9b8QlM",
    "outputId": "c0601558-7a8b-4c64-8df4-d4ba279a8b55",
    "scrolled": false
   },
   "outputs": [],
   "source": [
    "# import libraries for this question here\n",
    "import pandas as pd\n",
    "import matplotlib.pyplot as plt\n",
    "import json    \n",
    "import requests\n",
    "import re\n"
   ]
  },
  {
   "cell_type": "code",
   "execution_count": null,
   "metadata": {
    "collapsed": true
   },
   "outputs": [],
   "source": [
    "!pip install folium\n",
    "import folium"
   ]
  },
  {
   "cell_type": "markdown",
   "metadata": {},
   "source": [
    "##QDAVI data analytics cycle 1"
   ]
  },
  {
   "cell_type": "markdown",
   "metadata": {
    "colab_type": "text",
    "id": "QUAlZzVz8QlX"
   },
   "source": [
    "### [1] Question"
   ]
  },
  {
   "cell_type": "markdown",
   "metadata": {
    "colab_type": "text",
    "id": "4N6hNA4V8Qla"
   },
   "source": [
    "** Question1 : Where we have the highest traffic volume in these Brisbane Areas (Bayside, Inner North, Inner South, or Western Suburbs)?**\n",
    "* The main business concern is to identify the best areas to open new drive-thru coffe shops , The best areas are the one with the busiest roads in Brisbane suburbs. The identification of areas with highest road traffic will help us to understand which areas have the highest number of drivers going on their roads. Because, the more we have drivers on road, the highest is the number of people who will pass through the coffe shop.\n",
    "\n",
    "* The primary stakeholders are the business owner (decide best way to expand the business), the client (ensure having enough client for the new business location , and ensure customer statisfaction)"
   ]
  },
  {
   "cell_type": "markdown",
   "metadata": {
    "colab_type": "text",
    "id": "FgOqwCsW8Qld"
   },
   "source": [
    "### [2] Data"
   ]
  },
  {
   "cell_type": "markdown",
   "metadata": {},
   "source": [
    "For this task, we are going to download and use two datasets from https://data.gov.au/  that will help us to understand what is the traffic volumes on Brisbane intersections. We added also a file that indicates each subrub is located in which area.\n",
    "\n",
    "* The first one is 'intersection_locations.json' wich includes all the intersection details  of the city\n",
    "* The second one is 'intersection_volumes.json'wich includes the average occupancy time of a lane (it gives us a percentage of how much the lane is occupied)\n",
    "* The thrid file 'SuburbAreas.csv' indicates  subrub's location"
   ]
  },
  {
   "cell_type": "code",
   "execution_count": 101,
   "metadata": {
    "colab_type": "text",
    "collapsed": false,
    "id": "DWe-No-S8Qlz",
    "scrolled": true
   },
   "outputs": [],
   "source": [
    "# Import the data and read the json results\n",
    " \n",
    "\n",
    "# Read the content from the two files downloaded    \n",
    "intersection_locations_file = open('intersection_locations.json', 'r')\n",
    "intersection_locations_raw_text = intersection_locations_file.read()\n",
    "\n",
    "intersection_volumes_file = open('intersection_volumes.json', 'r')\n",
    "intersection_volumes_raw_text = intersection_volumes_file.read()\n",
    "\n",
    "\n",
    "# Read the json results , it gives us a list of dictionnary\n",
    "intersection_locations_data = json.loads(intersection_locations_raw_text)\n",
    "intersection_volumes_data = json.loads(intersection_volumes_raw_text)\n",
    "\n",
    "\n",
    "\n",
    "# Reat the list of brisbane Subrubs\n",
    "suburbs = pd.read_csv('SuburbAreas.csv')"
   ]
  },
  {
   "cell_type": "code",
   "execution_count": 102,
   "metadata": {
    "collapsed": false,
    "scrolled": true
   },
   "outputs": [
    {
     "data": {
      "text/plain": [
       "{'areaNum': 'B0001',\n",
       " 'arms': [{'arm': 1,\n",
       "   'azimuth': 320,\n",
       "   'detectors': [],\n",
       "   'leftLaneCount': 0,\n",
       "   'nextTsc': 71,\n",
       "   'rightLaneCount': 3,\n",
       "   'slipLaneCount': 0,\n",
       "   'streetName': 'GEORGE ST'},\n",
       "  {'arm': 2,\n",
       "   'azimuth': 140,\n",
       "   'detectors': [],\n",
       "   'leftLaneCount': 3,\n",
       "   'nextTsc': 72,\n",
       "   'rightLaneCount': 0,\n",
       "   'slipLaneCount': 0,\n",
       "   'streetName': 'GEORGE ST'},\n",
       "  {'arm': 3,\n",
       "   'azimuth': 230,\n",
       "   'detectors': [],\n",
       "   'leftLaneCount': 2,\n",
       "   'rightLaneCount': 1,\n",
       "   'slipLaneCount': 0,\n",
       "   'streetName': 'TANK ST'}],\n",
       " 'coordinates': {'amg': {'easting': 502033,\n",
       "   'hemisphere': 'South',\n",
       "   'northing': 6961733,\n",
       "   'zone': 56},\n",
       "  'latLng': {'latitude': -27.467951, 'longitude': 153.020577},\n",
       "  'ubd': {'grid': 'Q20', 'page': 1}},\n",
       " 'region': 'CITY',\n",
       " 'scatsVersion': '6.9.3',\n",
       " 'subsystem': 2662,\n",
       " 'suburb': 'CITY',\n",
       " 'tsc': 1}"
      ]
     },
     "execution_count": 102,
     "metadata": {},
     "output_type": "execute_result"
    }
   ],
   "source": [
    "# Let's identify one dictionary sample of the intersection location json dictionnary\n",
    "intersection_locations_data[0]"
   ]
  },
  {
   "cell_type": "code",
   "execution_count": 103,
   "metadata": {
    "collapsed": false,
    "scrolled": true
   },
   "outputs": [
    {
     "data": {
      "text/plain": [
       "{'ct': 80,\n",
       " 'dbid': 2147483452,\n",
       " 'ds1': 0,\n",
       " 'ds2': 0,\n",
       " 'lane': 'SA-344',\n",
       " 'link_plan': 2,\n",
       " 'married': 'Y',\n",
       " 'mf1': 0,\n",
       " 'mf2': 0,\n",
       " 'recorded': '2020-08-07T23:22:00',\n",
       " 'rf1': 0,\n",
       " 'rf2': 0,\n",
       " 'ss': 2441,\n",
       " 'tsc': 75}"
      ]
     },
     "execution_count": 103,
     "metadata": {},
     "output_type": "execute_result"
    }
   ],
   "source": [
    "# Let's identify one dictionary sample of the intersection volumes data  dictionnary\n",
    "intersection_volumes_data[1]"
   ]
  },
  {
   "cell_type": "markdown",
   "metadata": {
    "colab_type": "text",
    "id": "9SRc2wYx8Qlz"
   },
   "source": [
    "### [3] Analysis"
   ]
  },
  {
   "cell_type": "code",
   "execution_count": 104,
   "metadata": {
    "collapsed": false
   },
   "outputs": [
    {
     "data": {
      "text/html": [
       "<div>\n",
       "<table border=\"1\" class=\"dataframe\">\n",
       "  <thead>\n",
       "    <tr style=\"text-align: right;\">\n",
       "      <th></th>\n",
       "      <th>areaNum</th>\n",
       "      <th>arms</th>\n",
       "      <th>coordinates</th>\n",
       "      <th>region</th>\n",
       "      <th>scatsVersion</th>\n",
       "      <th>subsystem</th>\n",
       "      <th>suburb</th>\n",
       "      <th>tsc</th>\n",
       "    </tr>\n",
       "  </thead>\n",
       "  <tbody>\n",
       "    <tr>\n",
       "      <th>0</th>\n",
       "      <td>B0001</td>\n",
       "      <td>[{'arm': 1, 'rightLaneCount': 3, 'leftLaneCoun...</td>\n",
       "      <td>{'ubd': {'grid': 'Q20', 'page': 1}, 'amg': {'h...</td>\n",
       "      <td>CITY</td>\n",
       "      <td>6.9.3</td>\n",
       "      <td>2662</td>\n",
       "      <td>CITY</td>\n",
       "      <td>1</td>\n",
       "    </tr>\n",
       "    <tr>\n",
       "      <th>1</th>\n",
       "      <td>B0002</td>\n",
       "      <td>[{'arm': 1, 'rightLaneCount': 4, 'leftLaneCoun...</td>\n",
       "      <td>{'amg': {'hemisphere': 'South', 'northing': 69...</td>\n",
       "      <td>CITY</td>\n",
       "      <td>6.9.3</td>\n",
       "      <td>2663</td>\n",
       "      <td>CITY</td>\n",
       "      <td>2</td>\n",
       "    </tr>\n",
       "    <tr>\n",
       "      <th>2</th>\n",
       "      <td>B0003</td>\n",
       "      <td>[{'arm': 1, 'rightLaneCount': 2, 'leftLaneCoun...</td>\n",
       "      <td>{'ubd': {'grid': 'D20', 'page': 2}, 'amg': {'h...</td>\n",
       "      <td>CITY</td>\n",
       "      <td>6.9.3</td>\n",
       "      <td>2664</td>\n",
       "      <td>CITY</td>\n",
       "      <td>3</td>\n",
       "    </tr>\n",
       "    <tr>\n",
       "      <th>3</th>\n",
       "      <td>B0004</td>\n",
       "      <td>[{'arm': 1, 'rightLaneCount': 0, 'leftLaneCoun...</td>\n",
       "      <td>{'ubd': {'grid': 'G18', 'page': 2}, 'amg': {'h...</td>\n",
       "      <td>CITY</td>\n",
       "      <td>6.9.3</td>\n",
       "      <td>2665</td>\n",
       "      <td>CITY</td>\n",
       "      <td>4</td>\n",
       "    </tr>\n",
       "    <tr>\n",
       "      <th>4</th>\n",
       "      <td>B0005</td>\n",
       "      <td>[{'arm': 1, 'rightLaneCount': 0, 'leftLaneCoun...</td>\n",
       "      <td>{'ubd': {'grid': 'H17', 'page': 2}, 'amg': {'h...</td>\n",
       "      <td>CITY</td>\n",
       "      <td>6.9.3</td>\n",
       "      <td>2666</td>\n",
       "      <td>CITY</td>\n",
       "      <td>5</td>\n",
       "    </tr>\n",
       "    <tr>\n",
       "      <th>5</th>\n",
       "      <td>B0006</td>\n",
       "      <td>[{'arm': 1, 'rightLaneCount': 4, 'leftLaneCoun...</td>\n",
       "      <td>{'ubd': {'grid': 'K15', 'page': 2}, 'amg': {'h...</td>\n",
       "      <td>CITY</td>\n",
       "      <td>6.9.3</td>\n",
       "      <td>2667</td>\n",
       "      <td>CITY</td>\n",
       "      <td>6</td>\n",
       "    </tr>\n",
       "    <tr>\n",
       "      <th>6</th>\n",
       "      <td>B0007</td>\n",
       "      <td>[{'arm': 1, 'rightLaneCount': 2, 'leftLaneCoun...</td>\n",
       "      <td>{'ubd': {'grid': 'M13', 'page': 2}, 'amg': {'h...</td>\n",
       "      <td>CITY</td>\n",
       "      <td>6.9.3</td>\n",
       "      <td>2668</td>\n",
       "      <td>CITY</td>\n",
       "      <td>7</td>\n",
       "    </tr>\n",
       "    <tr>\n",
       "      <th>7</th>\n",
       "      <td>B0008</td>\n",
       "      <td>[{'arm': 1, 'detectors': [], 'leftLaneCount': ...</td>\n",
       "      <td>{'ubd': {'grid': 'C4', 'page': 2}, 'amg': {'he...</td>\n",
       "      <td>CITY</td>\n",
       "      <td>6.9.3</td>\n",
       "      <td>2669</td>\n",
       "      <td>CITY</td>\n",
       "      <td>8</td>\n",
       "    </tr>\n",
       "    <tr>\n",
       "      <th>8</th>\n",
       "      <td>B0009</td>\n",
       "      <td>[{'arm': 1, 'rightLaneCount': 1, 'leftLaneCoun...</td>\n",
       "      <td>{'ubd': {'grid': 'L1', 'page': 22}, 'amg': {'h...</td>\n",
       "      <td>CITY</td>\n",
       "      <td>6.9.3</td>\n",
       "      <td>2670</td>\n",
       "      <td>CITY</td>\n",
       "      <td>9</td>\n",
       "    </tr>\n",
       "    <tr>\n",
       "      <th>9</th>\n",
       "      <td>B0010</td>\n",
       "      <td>[{'arm': 1, 'rightLaneCount': 0, 'leftLaneCoun...</td>\n",
       "      <td>{'ubd': {'grid': 'P10', 'page': 159}, 'amg': {...</td>\n",
       "      <td>CITY</td>\n",
       "      <td>6.9.3</td>\n",
       "      <td>2671</td>\n",
       "      <td>CITY</td>\n",
       "      <td>10</td>\n",
       "    </tr>\n",
       "    <tr>\n",
       "      <th>10</th>\n",
       "      <td>B0011</td>\n",
       "      <td>[{'arm': 1, 'rightLaneCount': 4, 'leftLaneCoun...</td>\n",
       "      <td>{'ubd': {'grid': 'Q10', 'page': 159}, 'amg': {...</td>\n",
       "      <td>CITY</td>\n",
       "      <td>6.9.3</td>\n",
       "      <td>2672</td>\n",
       "      <td>CITY</td>\n",
       "      <td>11</td>\n",
       "    </tr>\n",
       "    <tr>\n",
       "      <th>11</th>\n",
       "      <td>B0012</td>\n",
       "      <td>[{'arm': 1, 'rightLaneCount': 2, 'leftLaneCoun...</td>\n",
       "      <td>{'ubd': {'grid': 'R9', 'page': 159}, 'amg': {'...</td>\n",
       "      <td>CITY</td>\n",
       "      <td>6.9.3</td>\n",
       "      <td>2673</td>\n",
       "      <td>CITY</td>\n",
       "      <td>12</td>\n",
       "    </tr>\n",
       "    <tr>\n",
       "      <th>12</th>\n",
       "      <td>B0013</td>\n",
       "      <td>[{'arm': 1, 'rightLaneCount': 0, 'leftLaneCoun...</td>\n",
       "      <td>{'ubd': {'grid': 'N12', 'page': 159}, 'amg': {...</td>\n",
       "      <td>CITY</td>\n",
       "      <td>6.9.3</td>\n",
       "      <td>2674</td>\n",
       "      <td>CITY</td>\n",
       "      <td>13</td>\n",
       "    </tr>\n",
       "    <tr>\n",
       "      <th>13</th>\n",
       "      <td>B0014</td>\n",
       "      <td>[{'arm': 1, 'rightLaneCount': 3, 'leftLaneCoun...</td>\n",
       "      <td>{'ubd': {'grid': 'N12', 'page': 159}, 'amg': {...</td>\n",
       "      <td>CITY</td>\n",
       "      <td>6.9.3</td>\n",
       "      <td>2675</td>\n",
       "      <td>CITY</td>\n",
       "      <td>14</td>\n",
       "    </tr>\n",
       "    <tr>\n",
       "      <th>14</th>\n",
       "      <td>B0015</td>\n",
       "      <td>[{'arm': 1, 'rightLaneCount': 0, 'leftLaneCoun...</td>\n",
       "      <td>{'ubd': {'grid': 'A14', 'page': 140}, 'amg': {...</td>\n",
       "      <td>LUTWCH</td>\n",
       "      <td>6.9.3</td>\n",
       "      <td>2914</td>\n",
       "      <td>WINDSOR</td>\n",
       "      <td>15</td>\n",
       "    </tr>\n",
       "    <tr>\n",
       "      <th>15</th>\n",
       "      <td>B0016</td>\n",
       "      <td>[{'arm': 1, 'detectors': [], 'leftLaneCount': ...</td>\n",
       "      <td>{'ubd': {'grid': 'P20', 'page': 18}, 'amg': {'...</td>\n",
       "      <td>CITY</td>\n",
       "      <td>6.9.3</td>\n",
       "      <td>2676</td>\n",
       "      <td>CITY</td>\n",
       "      <td>16</td>\n",
       "    </tr>\n",
       "    <tr>\n",
       "      <th>16</th>\n",
       "      <td>B0017</td>\n",
       "      <td>[{'arm': 1, 'rightLaneCount': 4, 'leftLaneCoun...</td>\n",
       "      <td>{'ubd': {'grid': 'Q10', 'page': 159}, 'amg': {...</td>\n",
       "      <td>CITY</td>\n",
       "      <td>6.9.3</td>\n",
       "      <td>2677</td>\n",
       "      <td>CITY</td>\n",
       "      <td>17</td>\n",
       "    </tr>\n",
       "    <tr>\n",
       "      <th>17</th>\n",
       "      <td>B0018</td>\n",
       "      <td>[{'arm': 1, 'rightLaneCount': 2, 'leftLaneCoun...</td>\n",
       "      <td>{'ubd': {'grid': 'R9', 'page': 159}, 'amg': {'...</td>\n",
       "      <td>CITY</td>\n",
       "      <td>6.9.3</td>\n",
       "      <td>2678</td>\n",
       "      <td>CITY</td>\n",
       "      <td>18</td>\n",
       "    </tr>\n",
       "    <tr>\n",
       "      <th>18</th>\n",
       "      <td>B0019</td>\n",
       "      <td>[{'arm': 1, 'rightLaneCount': 2, 'leftLaneCoun...</td>\n",
       "      <td>{'ubd': {'grid': 'R8', 'page': 159}, 'amg': {'...</td>\n",
       "      <td>CITY</td>\n",
       "      <td>6.9.3</td>\n",
       "      <td>2679</td>\n",
       "      <td>CITY</td>\n",
       "      <td>19</td>\n",
       "    </tr>\n",
       "    <tr>\n",
       "      <th>19</th>\n",
       "      <td>B0021</td>\n",
       "      <td>[{'arm': 1, 'rightLaneCount': 3, 'leftLaneCoun...</td>\n",
       "      <td>{'ubd': {'grid': 'P12', 'page': 159}, 'amg': {...</td>\n",
       "      <td>CITY</td>\n",
       "      <td>6.9.3</td>\n",
       "      <td>2680</td>\n",
       "      <td>CITY</td>\n",
       "      <td>21</td>\n",
       "    </tr>\n",
       "    <tr>\n",
       "      <th>20</th>\n",
       "      <td>B0022</td>\n",
       "      <td>[{'arm': 1, 'rightLaneCount': 1, 'leftLaneCoun...</td>\n",
       "      <td>{'ubd': {'grid': 'P11', 'page': 159}, 'amg': {...</td>\n",
       "      <td>CITY</td>\n",
       "      <td>6.9.3</td>\n",
       "      <td>2681</td>\n",
       "      <td>CITY</td>\n",
       "      <td>22</td>\n",
       "    </tr>\n",
       "    <tr>\n",
       "      <th>21</th>\n",
       "      <td>B0023</td>\n",
       "      <td>[{'arm': 1, 'rightLaneCount': 0, 'leftLaneCoun...</td>\n",
       "      <td>{'ubd': {'grid': 'Q11', 'page': 159}, 'amg': {...</td>\n",
       "      <td>CITY</td>\n",
       "      <td>6.9.3</td>\n",
       "      <td>2682</td>\n",
       "      <td>CITY</td>\n",
       "      <td>23</td>\n",
       "    </tr>\n",
       "    <tr>\n",
       "      <th>22</th>\n",
       "      <td>B0024</td>\n",
       "      <td>[{'arm': 1, 'rightLaneCount': 4, 'leftLaneCoun...</td>\n",
       "      <td>{'ubd': {'grid': 'Q11', 'page': 159}, 'amg': {...</td>\n",
       "      <td>CITY</td>\n",
       "      <td>6.9.3</td>\n",
       "      <td>2683</td>\n",
       "      <td>CITY</td>\n",
       "      <td>24</td>\n",
       "    </tr>\n",
       "    <tr>\n",
       "      <th>23</th>\n",
       "      <td>B0025</td>\n",
       "      <td>[{'arm': 1, 'rightLaneCount': 4, 'leftLaneCoun...</td>\n",
       "      <td>{'ubd': {'grid': 'R10', 'page': 159}, 'amg': {...</td>\n",
       "      <td>CITY</td>\n",
       "      <td>6.9.3</td>\n",
       "      <td>2684</td>\n",
       "      <td>CITY</td>\n",
       "      <td>25</td>\n",
       "    </tr>\n",
       "    <tr>\n",
       "      <th>24</th>\n",
       "      <td>B0026</td>\n",
       "      <td>[{'arm': 1, 'rightLaneCount': 3, 'leftLaneCoun...</td>\n",
       "      <td>{'ubd': {'grid': 'R10', 'page': 159}, 'amg': {...</td>\n",
       "      <td>CITY</td>\n",
       "      <td>6.9.3</td>\n",
       "      <td>2685</td>\n",
       "      <td>CITY</td>\n",
       "      <td>26</td>\n",
       "    </tr>\n",
       "    <tr>\n",
       "      <th>25</th>\n",
       "      <td>B0027</td>\n",
       "      <td>[{'arm': 1, 'rightLaneCount': 2, 'leftLaneCoun...</td>\n",
       "      <td>{'ubd': {'grid': 'P9', 'page': 159}, 'amg': {'...</td>\n",
       "      <td>CITY</td>\n",
       "      <td>6.9.3</td>\n",
       "      <td>2686</td>\n",
       "      <td>CITY</td>\n",
       "      <td>27</td>\n",
       "    </tr>\n",
       "    <tr>\n",
       "      <th>26</th>\n",
       "      <td>B0028</td>\n",
       "      <td>[{'arm': 1, 'rightLaneCount': 3, 'leftLaneCoun...</td>\n",
       "      <td>{'ubd': {'grid': 'H18', 'page': 140}, 'amg': {...</td>\n",
       "      <td>CITY</td>\n",
       "      <td>6.9.3</td>\n",
       "      <td>2687</td>\n",
       "      <td>HAMILTON</td>\n",
       "      <td>28</td>\n",
       "    </tr>\n",
       "    <tr>\n",
       "      <th>27</th>\n",
       "      <td>B0029</td>\n",
       "      <td>[{'arm': 1, 'rightLaneCount': 1, 'leftLaneCoun...</td>\n",
       "      <td>{'ubd': {'grid': 'A16', 'page': 159}, 'amg': {...</td>\n",
       "      <td>NORMAN</td>\n",
       "      <td>6.9.3</td>\n",
       "      <td>2432</td>\n",
       "      <td>TOOWONG</td>\n",
       "      <td>29</td>\n",
       "    </tr>\n",
       "    <tr>\n",
       "      <th>28</th>\n",
       "      <td>B0030</td>\n",
       "      <td>[{'arm': 1, 'rightLaneCount': 3, 'leftLaneCoun...</td>\n",
       "      <td>{'ubd': {'grid': 'R17', 'page': 140}, 'amg': {...</td>\n",
       "      <td>CITY</td>\n",
       "      <td>6.9.3</td>\n",
       "      <td>2688</td>\n",
       "      <td>HAMILTON</td>\n",
       "      <td>30</td>\n",
       "    </tr>\n",
       "    <tr>\n",
       "      <th>29</th>\n",
       "      <td>B0031</td>\n",
       "      <td>[{'arm': 1, 'rightLaneCount': 2, 'leftLaneCoun...</td>\n",
       "      <td>{'ubd': {'grid': 'L5', 'page': 178}, 'amg': {'...</td>\n",
       "      <td>INDPIL</td>\n",
       "      <td>6.9.3</td>\n",
       "      <td>2556</td>\n",
       "      <td>INDOOROOPILLY</td>\n",
       "      <td>31</td>\n",
       "    </tr>\n",
       "    <tr>\n",
       "      <th>...</th>\n",
       "      <td>...</td>\n",
       "      <td>...</td>\n",
       "      <td>...</td>\n",
       "      <td>...</td>\n",
       "      <td>...</td>\n",
       "      <td>...</td>\n",
       "      <td>...</td>\n",
       "      <td>...</td>\n",
       "    </tr>\n",
       "    <tr>\n",
       "      <th>984</th>\n",
       "      <td>B8074</td>\n",
       "      <td>[{'arm': 1, 'rightLaneCount': 2, 'leftLaneCoun...</td>\n",
       "      <td>{'amg': {'hemisphere': 'South', 'northing': 69...</td>\n",
       "      <td>INDPIL</td>\n",
       "      <td>6.9.3</td>\n",
       "      <td>2659</td>\n",
       "      <td>ST LUCIA</td>\n",
       "      <td>8074</td>\n",
       "    </tr>\n",
       "    <tr>\n",
       "      <th>985</th>\n",
       "      <td>B8075</td>\n",
       "      <td>[{'arm': 1, 'rightLaneCount': 0, 'leftLaneCoun...</td>\n",
       "      <td>NaN</td>\n",
       "      <td>CITY</td>\n",
       "      <td>6.9.3</td>\n",
       "      <td>2777</td>\n",
       "      <td>EAGLE FARM</td>\n",
       "      <td>8075</td>\n",
       "    </tr>\n",
       "    <tr>\n",
       "      <th>986</th>\n",
       "      <td>B8076</td>\n",
       "      <td>[{'arm': 1, 'rightLaneCount': 1, 'leftLaneCoun...</td>\n",
       "      <td>NaN</td>\n",
       "      <td>LUTWCH</td>\n",
       "      <td>6.9.3</td>\n",
       "      <td>3038</td>\n",
       "      <td>FORTITUDE VALLEY</td>\n",
       "      <td>8076</td>\n",
       "    </tr>\n",
       "    <tr>\n",
       "      <th>987</th>\n",
       "      <td>B8077</td>\n",
       "      <td>[{'arm': 1, 'rightLaneCount': 1, 'leftLaneCoun...</td>\n",
       "      <td>{'amg': {'hemisphere': 'South', 'northing': 69...</td>\n",
       "      <td>ABBOTS</td>\n",
       "      <td>6.9.3</td>\n",
       "      <td>3046</td>\n",
       "      <td>FORTITUDE VALLEY</td>\n",
       "      <td>8077</td>\n",
       "    </tr>\n",
       "    <tr>\n",
       "      <th>988</th>\n",
       "      <td>B8078</td>\n",
       "      <td>[{'arm': 1, 'rightLaneCount': 1, 'leftLaneCoun...</td>\n",
       "      <td>{'amg': {'hemisphere': 'South', 'northing': 69...</td>\n",
       "      <td>CITY</td>\n",
       "      <td>6.9.3</td>\n",
       "      <td>2778</td>\n",
       "      <td>NEWSTEAD</td>\n",
       "      <td>8078</td>\n",
       "    </tr>\n",
       "    <tr>\n",
       "      <th>989</th>\n",
       "      <td>B8079</td>\n",
       "      <td>[{'arm': 1, 'rightLaneCount': 1, 'leftLaneCoun...</td>\n",
       "      <td>{'amg': {'hemisphere': 'South', 'northing': 69...</td>\n",
       "      <td>ABBOTS</td>\n",
       "      <td>6.9.3</td>\n",
       "      <td>2134</td>\n",
       "      <td>HENDRA</td>\n",
       "      <td>8079</td>\n",
       "    </tr>\n",
       "    <tr>\n",
       "      <th>990</th>\n",
       "      <td>B8080</td>\n",
       "      <td>[{'arm': 1, 'rightLaneCount': 3, 'leftLaneCoun...</td>\n",
       "      <td>{'amg': {'hemisphere': 'South', 'northing': 69...</td>\n",
       "      <td>LUTWCH</td>\n",
       "      <td>6.9.3</td>\n",
       "      <td>3039</td>\n",
       "      <td>HERSTON</td>\n",
       "      <td>8080</td>\n",
       "    </tr>\n",
       "    <tr>\n",
       "      <th>991</th>\n",
       "      <td>B8081</td>\n",
       "      <td>[{'arm': 1, 'rightLaneCount': 2, 'leftLaneCoun...</td>\n",
       "      <td>{'ubd': {'grid': 'B10', 'page': 110}}</td>\n",
       "      <td>ABBOTS</td>\n",
       "      <td>6.9.3</td>\n",
       "      <td>2135</td>\n",
       "      <td>BRACKEN RIDGE</td>\n",
       "      <td>8081</td>\n",
       "    </tr>\n",
       "    <tr>\n",
       "      <th>992</th>\n",
       "      <td>B8083</td>\n",
       "      <td>[{'arm': 1, 'rightLaneCount': 2, 'leftLaneCoun...</td>\n",
       "      <td>NaN</td>\n",
       "      <td>NORMAN</td>\n",
       "      <td>6.9.3</td>\n",
       "      <td>2550</td>\n",
       "      <td>TOOWONG</td>\n",
       "      <td>8083</td>\n",
       "    </tr>\n",
       "    <tr>\n",
       "      <th>993</th>\n",
       "      <td>B8084</td>\n",
       "      <td>[{'arm': 1, 'rightLaneCount': 1, 'leftLaneCoun...</td>\n",
       "      <td>NaN</td>\n",
       "      <td>ABBOTS</td>\n",
       "      <td>6.9.3</td>\n",
       "      <td>2136</td>\n",
       "      <td>NUDGEE</td>\n",
       "      <td>8084</td>\n",
       "    </tr>\n",
       "    <tr>\n",
       "      <th>994</th>\n",
       "      <td>B8085</td>\n",
       "      <td>[{'arm': 1, 'rightLaneCount': 2, 'leftLaneCoun...</td>\n",
       "      <td>{'ubd': {'grid': 'A18', 'page': 181}, 'amg': {...</td>\n",
       "      <td>NORMAN</td>\n",
       "      <td>6.9.3</td>\n",
       "      <td>2551</td>\n",
       "      <td>KEPERRA</td>\n",
       "      <td>8085</td>\n",
       "    </tr>\n",
       "    <tr>\n",
       "      <th>995</th>\n",
       "      <td>B8086</td>\n",
       "      <td>[{'arm': 1, 'rightLaneCount': 2, 'leftLaneCoun...</td>\n",
       "      <td>{'amg': {'hemisphere': 'South', 'northing': 69...</td>\n",
       "      <td>LUTWCH</td>\n",
       "      <td>6.9.3</td>\n",
       "      <td>3040</td>\n",
       "      <td>TAIGUM</td>\n",
       "      <td>8086</td>\n",
       "    </tr>\n",
       "    <tr>\n",
       "      <th>996</th>\n",
       "      <td>B8087</td>\n",
       "      <td>[{'arm': 1, 'rightLaneCount': 1, 'leftLaneCoun...</td>\n",
       "      <td>{'amg': {'hemisphere': 'South', 'northing': 69...</td>\n",
       "      <td>NORMAN</td>\n",
       "      <td>6.9.3</td>\n",
       "      <td>2552</td>\n",
       "      <td>HERSTON</td>\n",
       "      <td>8087</td>\n",
       "    </tr>\n",
       "    <tr>\n",
       "      <th>997</th>\n",
       "      <td>B8088</td>\n",
       "      <td>[{'arm': 1, 'detectors': [], 'leftLaneCount': ...</td>\n",
       "      <td>{'amg': {'hemisphere': 'South', 'northing': 69...</td>\n",
       "      <td>ABBOTS</td>\n",
       "      <td>6.9.3</td>\n",
       "      <td>2137</td>\n",
       "      <td>ASCOT</td>\n",
       "      <td>8088</td>\n",
       "    </tr>\n",
       "    <tr>\n",
       "      <th>998</th>\n",
       "      <td>B8089</td>\n",
       "      <td>[{'arm': 1, 'rightLaneCount': 1, 'leftLaneCoun...</td>\n",
       "      <td>{'amg': {'hemisphere': 'South', 'northing': 69...</td>\n",
       "      <td>ABBOTS</td>\n",
       "      <td>6.9.3</td>\n",
       "      <td>2138</td>\n",
       "      <td>ASCOT</td>\n",
       "      <td>8089</td>\n",
       "    </tr>\n",
       "    <tr>\n",
       "      <th>999</th>\n",
       "      <td>B8090</td>\n",
       "      <td>[{'arm': 1, 'rightLaneCount': 1, 'leftLaneCoun...</td>\n",
       "      <td>{'amg': {'hemisphere': 'South', 'northing': 69...</td>\n",
       "      <td>NORMAN</td>\n",
       "      <td>6.9.3</td>\n",
       "      <td>2553</td>\n",
       "      <td>UPPER KEDRON</td>\n",
       "      <td>8090</td>\n",
       "    </tr>\n",
       "    <tr>\n",
       "      <th>1000</th>\n",
       "      <td>B8091</td>\n",
       "      <td>[{'arm': 1, 'rightLaneCount': 1, 'leftLaneCoun...</td>\n",
       "      <td>{'amg': {'hemisphere': 'South', 'northing': 69...</td>\n",
       "      <td>NORMAN</td>\n",
       "      <td>6.9.3</td>\n",
       "      <td>2554</td>\n",
       "      <td>UPPER KEDRON</td>\n",
       "      <td>8091</td>\n",
       "    </tr>\n",
       "    <tr>\n",
       "      <th>1001</th>\n",
       "      <td>B8092</td>\n",
       "      <td>[{'arm': 1, 'rightLaneCount': 2, 'leftLaneCoun...</td>\n",
       "      <td>{'amg': {'hemisphere': 'South', 'northing': 69...</td>\n",
       "      <td>LUTWCH</td>\n",
       "      <td>6.9.3</td>\n",
       "      <td>3041</td>\n",
       "      <td>WILSTON</td>\n",
       "      <td>8092</td>\n",
       "    </tr>\n",
       "    <tr>\n",
       "      <th>1002</th>\n",
       "      <td>B8093</td>\n",
       "      <td>[{'arm': 1, 'rightLaneCount': 2, 'leftLaneCoun...</td>\n",
       "      <td>{'amg': {'hemisphere': 'South', 'northing': 69...</td>\n",
       "      <td>ABBOTS</td>\n",
       "      <td>6.9.3</td>\n",
       "      <td>2139</td>\n",
       "      <td>BRACKEN RIDGE</td>\n",
       "      <td>8093</td>\n",
       "    </tr>\n",
       "    <tr>\n",
       "      <th>1003</th>\n",
       "      <td>B8094</td>\n",
       "      <td>[{'arm': 1, 'rightLaneCount': 2, 'leftLaneCoun...</td>\n",
       "      <td>{'ubd': {'grid': 'F8', 'page': 178}, 'amg': {'...</td>\n",
       "      <td>INDPIL</td>\n",
       "      <td>6.9.3</td>\n",
       "      <td>2660</td>\n",
       "      <td>INDOOROOPILLY</td>\n",
       "      <td>8094</td>\n",
       "    </tr>\n",
       "    <tr>\n",
       "      <th>1004</th>\n",
       "      <td>B8095</td>\n",
       "      <td>[{'arm': 1, 'rightLaneCount': 1, 'leftLaneCoun...</td>\n",
       "      <td>NaN</td>\n",
       "      <td>LUTWCH</td>\n",
       "      <td>6.9.3</td>\n",
       "      <td>3042</td>\n",
       "      <td>WAVELL HEIGHTS</td>\n",
       "      <td>8095</td>\n",
       "    </tr>\n",
       "    <tr>\n",
       "      <th>1005</th>\n",
       "      <td>B8096</td>\n",
       "      <td>[{'arm': 1, 'rightLaneCount': 2, 'leftLaneCoun...</td>\n",
       "      <td>{'amg': {'hemisphere': 'South', 'northing': 69...</td>\n",
       "      <td>ABBOTS</td>\n",
       "      <td>6.9.3</td>\n",
       "      <td>2140</td>\n",
       "      <td>WAVELL HEIGHTS</td>\n",
       "      <td>8096</td>\n",
       "    </tr>\n",
       "    <tr>\n",
       "      <th>1006</th>\n",
       "      <td>B8098</td>\n",
       "      <td>[{'arm': 1, 'rightLaneCount': 2, 'leftLaneCoun...</td>\n",
       "      <td>{'amg': {'hemisphere': 'South', 'northing': 69...</td>\n",
       "      <td>NORMAN</td>\n",
       "      <td>6.9.3</td>\n",
       "      <td>2555</td>\n",
       "      <td>ENOGGERA</td>\n",
       "      <td>8098</td>\n",
       "    </tr>\n",
       "    <tr>\n",
       "      <th>1007</th>\n",
       "      <td>B8099</td>\n",
       "      <td>[{'arm': 1, 'rightLaneCount': 2, 'leftLaneCoun...</td>\n",
       "      <td>{'amg': {'hemisphere': 'South', 'northing': 69...</td>\n",
       "      <td>CITY</td>\n",
       "      <td>6.9.3</td>\n",
       "      <td>3061</td>\n",
       "      <td>HAMILTON</td>\n",
       "      <td>8099</td>\n",
       "    </tr>\n",
       "    <tr>\n",
       "      <th>1008</th>\n",
       "      <td>B8100</td>\n",
       "      <td>[{'arm': 1, 'rightLaneCount': 2, 'leftLaneCoun...</td>\n",
       "      <td>{'amg': {'hemisphere': 'South', 'northing': 69...</td>\n",
       "      <td>CITY</td>\n",
       "      <td>6.9.3</td>\n",
       "      <td>2780</td>\n",
       "      <td>HAMILTON</td>\n",
       "      <td>8100</td>\n",
       "    </tr>\n",
       "    <tr>\n",
       "      <th>1009</th>\n",
       "      <td>B8103</td>\n",
       "      <td>[{'arm': 1, 'rightLaneCount': 2, 'leftLaneCoun...</td>\n",
       "      <td>NaN</td>\n",
       "      <td>LUTWCH</td>\n",
       "      <td>6.9.3</td>\n",
       "      <td>3049</td>\n",
       "      <td>GRANGE</td>\n",
       "      <td>8103</td>\n",
       "    </tr>\n",
       "    <tr>\n",
       "      <th>1010</th>\n",
       "      <td>B8105</td>\n",
       "      <td>[{'arm': 1, 'detectors': [], 'leftLaneCount': ...</td>\n",
       "      <td>NaN</td>\n",
       "      <td>LUTWCH</td>\n",
       "      <td>6.9.3</td>\n",
       "      <td>3044</td>\n",
       "      <td>ICB OFF HERSTON RD</td>\n",
       "      <td>8105</td>\n",
       "    </tr>\n",
       "    <tr>\n",
       "      <th>1011</th>\n",
       "      <td>B8106</td>\n",
       "      <td>[{'arm': 1, 'rightLaneCount': 2, 'leftLaneCoun...</td>\n",
       "      <td>{'amg': {'hemisphere': 'South', 'northing': 69...</td>\n",
       "      <td>LUTWCH</td>\n",
       "      <td>6.9.3</td>\n",
       "      <td>3064</td>\n",
       "      <td>CHERMSIDE</td>\n",
       "      <td>8106</td>\n",
       "    </tr>\n",
       "    <tr>\n",
       "      <th>1012</th>\n",
       "      <td>B8578</td>\n",
       "      <td>[{'arm': 1, 'rightLaneCount': 2, 'leftLaneCoun...</td>\n",
       "      <td>{'ubd': {'grid': 'R12', 'page': 161}, 'amg': {...</td>\n",
       "      <td>NaN</td>\n",
       "      <td>NaN</td>\n",
       "      <td>NaN</td>\n",
       "      <td>TINGALPA</td>\n",
       "      <td>8578</td>\n",
       "    </tr>\n",
       "    <tr>\n",
       "      <th>1013</th>\n",
       "      <td>B8685</td>\n",
       "      <td>[{'arm': 1, 'rightLaneCount': 2, 'leftLaneCoun...</td>\n",
       "      <td>{'ubd': {'grid': 'G3', 'page': 181}, 'amg': {'...</td>\n",
       "      <td>NaN</td>\n",
       "      <td>NaN</td>\n",
       "      <td>NaN</td>\n",
       "      <td>CARINA</td>\n",
       "      <td>8685</td>\n",
       "    </tr>\n",
       "  </tbody>\n",
       "</table>\n",
       "<p>1014 rows × 8 columns</p>\n",
       "</div>"
      ],
      "text/plain": [
       "     areaNum                                               arms  \\\n",
       "0      B0001  [{'arm': 1, 'rightLaneCount': 3, 'leftLaneCoun...   \n",
       "1      B0002  [{'arm': 1, 'rightLaneCount': 4, 'leftLaneCoun...   \n",
       "2      B0003  [{'arm': 1, 'rightLaneCount': 2, 'leftLaneCoun...   \n",
       "3      B0004  [{'arm': 1, 'rightLaneCount': 0, 'leftLaneCoun...   \n",
       "4      B0005  [{'arm': 1, 'rightLaneCount': 0, 'leftLaneCoun...   \n",
       "5      B0006  [{'arm': 1, 'rightLaneCount': 4, 'leftLaneCoun...   \n",
       "6      B0007  [{'arm': 1, 'rightLaneCount': 2, 'leftLaneCoun...   \n",
       "7      B0008  [{'arm': 1, 'detectors': [], 'leftLaneCount': ...   \n",
       "8      B0009  [{'arm': 1, 'rightLaneCount': 1, 'leftLaneCoun...   \n",
       "9      B0010  [{'arm': 1, 'rightLaneCount': 0, 'leftLaneCoun...   \n",
       "10     B0011  [{'arm': 1, 'rightLaneCount': 4, 'leftLaneCoun...   \n",
       "11     B0012  [{'arm': 1, 'rightLaneCount': 2, 'leftLaneCoun...   \n",
       "12     B0013  [{'arm': 1, 'rightLaneCount': 0, 'leftLaneCoun...   \n",
       "13     B0014  [{'arm': 1, 'rightLaneCount': 3, 'leftLaneCoun...   \n",
       "14     B0015  [{'arm': 1, 'rightLaneCount': 0, 'leftLaneCoun...   \n",
       "15     B0016  [{'arm': 1, 'detectors': [], 'leftLaneCount': ...   \n",
       "16     B0017  [{'arm': 1, 'rightLaneCount': 4, 'leftLaneCoun...   \n",
       "17     B0018  [{'arm': 1, 'rightLaneCount': 2, 'leftLaneCoun...   \n",
       "18     B0019  [{'arm': 1, 'rightLaneCount': 2, 'leftLaneCoun...   \n",
       "19     B0021  [{'arm': 1, 'rightLaneCount': 3, 'leftLaneCoun...   \n",
       "20     B0022  [{'arm': 1, 'rightLaneCount': 1, 'leftLaneCoun...   \n",
       "21     B0023  [{'arm': 1, 'rightLaneCount': 0, 'leftLaneCoun...   \n",
       "22     B0024  [{'arm': 1, 'rightLaneCount': 4, 'leftLaneCoun...   \n",
       "23     B0025  [{'arm': 1, 'rightLaneCount': 4, 'leftLaneCoun...   \n",
       "24     B0026  [{'arm': 1, 'rightLaneCount': 3, 'leftLaneCoun...   \n",
       "25     B0027  [{'arm': 1, 'rightLaneCount': 2, 'leftLaneCoun...   \n",
       "26     B0028  [{'arm': 1, 'rightLaneCount': 3, 'leftLaneCoun...   \n",
       "27     B0029  [{'arm': 1, 'rightLaneCount': 1, 'leftLaneCoun...   \n",
       "28     B0030  [{'arm': 1, 'rightLaneCount': 3, 'leftLaneCoun...   \n",
       "29     B0031  [{'arm': 1, 'rightLaneCount': 2, 'leftLaneCoun...   \n",
       "...      ...                                                ...   \n",
       "984    B8074  [{'arm': 1, 'rightLaneCount': 2, 'leftLaneCoun...   \n",
       "985    B8075  [{'arm': 1, 'rightLaneCount': 0, 'leftLaneCoun...   \n",
       "986    B8076  [{'arm': 1, 'rightLaneCount': 1, 'leftLaneCoun...   \n",
       "987    B8077  [{'arm': 1, 'rightLaneCount': 1, 'leftLaneCoun...   \n",
       "988    B8078  [{'arm': 1, 'rightLaneCount': 1, 'leftLaneCoun...   \n",
       "989    B8079  [{'arm': 1, 'rightLaneCount': 1, 'leftLaneCoun...   \n",
       "990    B8080  [{'arm': 1, 'rightLaneCount': 3, 'leftLaneCoun...   \n",
       "991    B8081  [{'arm': 1, 'rightLaneCount': 2, 'leftLaneCoun...   \n",
       "992    B8083  [{'arm': 1, 'rightLaneCount': 2, 'leftLaneCoun...   \n",
       "993    B8084  [{'arm': 1, 'rightLaneCount': 1, 'leftLaneCoun...   \n",
       "994    B8085  [{'arm': 1, 'rightLaneCount': 2, 'leftLaneCoun...   \n",
       "995    B8086  [{'arm': 1, 'rightLaneCount': 2, 'leftLaneCoun...   \n",
       "996    B8087  [{'arm': 1, 'rightLaneCount': 1, 'leftLaneCoun...   \n",
       "997    B8088  [{'arm': 1, 'detectors': [], 'leftLaneCount': ...   \n",
       "998    B8089  [{'arm': 1, 'rightLaneCount': 1, 'leftLaneCoun...   \n",
       "999    B8090  [{'arm': 1, 'rightLaneCount': 1, 'leftLaneCoun...   \n",
       "1000   B8091  [{'arm': 1, 'rightLaneCount': 1, 'leftLaneCoun...   \n",
       "1001   B8092  [{'arm': 1, 'rightLaneCount': 2, 'leftLaneCoun...   \n",
       "1002   B8093  [{'arm': 1, 'rightLaneCount': 2, 'leftLaneCoun...   \n",
       "1003   B8094  [{'arm': 1, 'rightLaneCount': 2, 'leftLaneCoun...   \n",
       "1004   B8095  [{'arm': 1, 'rightLaneCount': 1, 'leftLaneCoun...   \n",
       "1005   B8096  [{'arm': 1, 'rightLaneCount': 2, 'leftLaneCoun...   \n",
       "1006   B8098  [{'arm': 1, 'rightLaneCount': 2, 'leftLaneCoun...   \n",
       "1007   B8099  [{'arm': 1, 'rightLaneCount': 2, 'leftLaneCoun...   \n",
       "1008   B8100  [{'arm': 1, 'rightLaneCount': 2, 'leftLaneCoun...   \n",
       "1009   B8103  [{'arm': 1, 'rightLaneCount': 2, 'leftLaneCoun...   \n",
       "1010   B8105  [{'arm': 1, 'detectors': [], 'leftLaneCount': ...   \n",
       "1011   B8106  [{'arm': 1, 'rightLaneCount': 2, 'leftLaneCoun...   \n",
       "1012   B8578  [{'arm': 1, 'rightLaneCount': 2, 'leftLaneCoun...   \n",
       "1013   B8685  [{'arm': 1, 'rightLaneCount': 2, 'leftLaneCoun...   \n",
       "\n",
       "                                            coordinates  region scatsVersion  \\\n",
       "0     {'ubd': {'grid': 'Q20', 'page': 1}, 'amg': {'h...    CITY        6.9.3   \n",
       "1     {'amg': {'hemisphere': 'South', 'northing': 69...    CITY        6.9.3   \n",
       "2     {'ubd': {'grid': 'D20', 'page': 2}, 'amg': {'h...    CITY        6.9.3   \n",
       "3     {'ubd': {'grid': 'G18', 'page': 2}, 'amg': {'h...    CITY        6.9.3   \n",
       "4     {'ubd': {'grid': 'H17', 'page': 2}, 'amg': {'h...    CITY        6.9.3   \n",
       "5     {'ubd': {'grid': 'K15', 'page': 2}, 'amg': {'h...    CITY        6.9.3   \n",
       "6     {'ubd': {'grid': 'M13', 'page': 2}, 'amg': {'h...    CITY        6.9.3   \n",
       "7     {'ubd': {'grid': 'C4', 'page': 2}, 'amg': {'he...    CITY        6.9.3   \n",
       "8     {'ubd': {'grid': 'L1', 'page': 22}, 'amg': {'h...    CITY        6.9.3   \n",
       "9     {'ubd': {'grid': 'P10', 'page': 159}, 'amg': {...    CITY        6.9.3   \n",
       "10    {'ubd': {'grid': 'Q10', 'page': 159}, 'amg': {...    CITY        6.9.3   \n",
       "11    {'ubd': {'grid': 'R9', 'page': 159}, 'amg': {'...    CITY        6.9.3   \n",
       "12    {'ubd': {'grid': 'N12', 'page': 159}, 'amg': {...    CITY        6.9.3   \n",
       "13    {'ubd': {'grid': 'N12', 'page': 159}, 'amg': {...    CITY        6.9.3   \n",
       "14    {'ubd': {'grid': 'A14', 'page': 140}, 'amg': {...  LUTWCH        6.9.3   \n",
       "15    {'ubd': {'grid': 'P20', 'page': 18}, 'amg': {'...    CITY        6.9.3   \n",
       "16    {'ubd': {'grid': 'Q10', 'page': 159}, 'amg': {...    CITY        6.9.3   \n",
       "17    {'ubd': {'grid': 'R9', 'page': 159}, 'amg': {'...    CITY        6.9.3   \n",
       "18    {'ubd': {'grid': 'R8', 'page': 159}, 'amg': {'...    CITY        6.9.3   \n",
       "19    {'ubd': {'grid': 'P12', 'page': 159}, 'amg': {...    CITY        6.9.3   \n",
       "20    {'ubd': {'grid': 'P11', 'page': 159}, 'amg': {...    CITY        6.9.3   \n",
       "21    {'ubd': {'grid': 'Q11', 'page': 159}, 'amg': {...    CITY        6.9.3   \n",
       "22    {'ubd': {'grid': 'Q11', 'page': 159}, 'amg': {...    CITY        6.9.3   \n",
       "23    {'ubd': {'grid': 'R10', 'page': 159}, 'amg': {...    CITY        6.9.3   \n",
       "24    {'ubd': {'grid': 'R10', 'page': 159}, 'amg': {...    CITY        6.9.3   \n",
       "25    {'ubd': {'grid': 'P9', 'page': 159}, 'amg': {'...    CITY        6.9.3   \n",
       "26    {'ubd': {'grid': 'H18', 'page': 140}, 'amg': {...    CITY        6.9.3   \n",
       "27    {'ubd': {'grid': 'A16', 'page': 159}, 'amg': {...  NORMAN        6.9.3   \n",
       "28    {'ubd': {'grid': 'R17', 'page': 140}, 'amg': {...    CITY        6.9.3   \n",
       "29    {'ubd': {'grid': 'L5', 'page': 178}, 'amg': {'...  INDPIL        6.9.3   \n",
       "...                                                 ...     ...          ...   \n",
       "984   {'amg': {'hemisphere': 'South', 'northing': 69...  INDPIL        6.9.3   \n",
       "985                                                 NaN    CITY        6.9.3   \n",
       "986                                                 NaN  LUTWCH        6.9.3   \n",
       "987   {'amg': {'hemisphere': 'South', 'northing': 69...  ABBOTS        6.9.3   \n",
       "988   {'amg': {'hemisphere': 'South', 'northing': 69...    CITY        6.9.3   \n",
       "989   {'amg': {'hemisphere': 'South', 'northing': 69...  ABBOTS        6.9.3   \n",
       "990   {'amg': {'hemisphere': 'South', 'northing': 69...  LUTWCH        6.9.3   \n",
       "991               {'ubd': {'grid': 'B10', 'page': 110}}  ABBOTS        6.9.3   \n",
       "992                                                 NaN  NORMAN        6.9.3   \n",
       "993                                                 NaN  ABBOTS        6.9.3   \n",
       "994   {'ubd': {'grid': 'A18', 'page': 181}, 'amg': {...  NORMAN        6.9.3   \n",
       "995   {'amg': {'hemisphere': 'South', 'northing': 69...  LUTWCH        6.9.3   \n",
       "996   {'amg': {'hemisphere': 'South', 'northing': 69...  NORMAN        6.9.3   \n",
       "997   {'amg': {'hemisphere': 'South', 'northing': 69...  ABBOTS        6.9.3   \n",
       "998   {'amg': {'hemisphere': 'South', 'northing': 69...  ABBOTS        6.9.3   \n",
       "999   {'amg': {'hemisphere': 'South', 'northing': 69...  NORMAN        6.9.3   \n",
       "1000  {'amg': {'hemisphere': 'South', 'northing': 69...  NORMAN        6.9.3   \n",
       "1001  {'amg': {'hemisphere': 'South', 'northing': 69...  LUTWCH        6.9.3   \n",
       "1002  {'amg': {'hemisphere': 'South', 'northing': 69...  ABBOTS        6.9.3   \n",
       "1003  {'ubd': {'grid': 'F8', 'page': 178}, 'amg': {'...  INDPIL        6.9.3   \n",
       "1004                                                NaN  LUTWCH        6.9.3   \n",
       "1005  {'amg': {'hemisphere': 'South', 'northing': 69...  ABBOTS        6.9.3   \n",
       "1006  {'amg': {'hemisphere': 'South', 'northing': 69...  NORMAN        6.9.3   \n",
       "1007  {'amg': {'hemisphere': 'South', 'northing': 69...    CITY        6.9.3   \n",
       "1008  {'amg': {'hemisphere': 'South', 'northing': 69...    CITY        6.9.3   \n",
       "1009                                                NaN  LUTWCH        6.9.3   \n",
       "1010                                                NaN  LUTWCH        6.9.3   \n",
       "1011  {'amg': {'hemisphere': 'South', 'northing': 69...  LUTWCH        6.9.3   \n",
       "1012  {'ubd': {'grid': 'R12', 'page': 161}, 'amg': {...     NaN          NaN   \n",
       "1013  {'ubd': {'grid': 'G3', 'page': 181}, 'amg': {'...     NaN          NaN   \n",
       "\n",
       "      subsystem              suburb   tsc  \n",
       "0          2662                CITY     1  \n",
       "1          2663                CITY     2  \n",
       "2          2664                CITY     3  \n",
       "3          2665                CITY     4  \n",
       "4          2666                CITY     5  \n",
       "5          2667                CITY     6  \n",
       "6          2668                CITY     7  \n",
       "7          2669                CITY     8  \n",
       "8          2670                CITY     9  \n",
       "9          2671                CITY    10  \n",
       "10         2672                CITY    11  \n",
       "11         2673                CITY    12  \n",
       "12         2674                CITY    13  \n",
       "13         2675                CITY    14  \n",
       "14         2914             WINDSOR    15  \n",
       "15         2676                CITY    16  \n",
       "16         2677                CITY    17  \n",
       "17         2678                CITY    18  \n",
       "18         2679                CITY    19  \n",
       "19         2680                CITY    21  \n",
       "20         2681                CITY    22  \n",
       "21         2682                CITY    23  \n",
       "22         2683                CITY    24  \n",
       "23         2684                CITY    25  \n",
       "24         2685                CITY    26  \n",
       "25         2686                CITY    27  \n",
       "26         2687            HAMILTON    28  \n",
       "27         2432             TOOWONG    29  \n",
       "28         2688            HAMILTON    30  \n",
       "29         2556       INDOOROOPILLY    31  \n",
       "...         ...                 ...   ...  \n",
       "984        2659            ST LUCIA  8074  \n",
       "985        2777          EAGLE FARM  8075  \n",
       "986        3038    FORTITUDE VALLEY  8076  \n",
       "987        3046    FORTITUDE VALLEY  8077  \n",
       "988        2778            NEWSTEAD  8078  \n",
       "989        2134              HENDRA  8079  \n",
       "990        3039             HERSTON  8080  \n",
       "991        2135       BRACKEN RIDGE  8081  \n",
       "992        2550             TOOWONG  8083  \n",
       "993        2136              NUDGEE  8084  \n",
       "994        2551             KEPERRA  8085  \n",
       "995        3040              TAIGUM  8086  \n",
       "996        2552             HERSTON  8087  \n",
       "997        2137               ASCOT  8088  \n",
       "998        2138               ASCOT  8089  \n",
       "999        2553        UPPER KEDRON  8090  \n",
       "1000       2554        UPPER KEDRON  8091  \n",
       "1001       3041             WILSTON  8092  \n",
       "1002       2139       BRACKEN RIDGE  8093  \n",
       "1003       2660       INDOOROOPILLY  8094  \n",
       "1004       3042      WAVELL HEIGHTS  8095  \n",
       "1005       2140      WAVELL HEIGHTS  8096  \n",
       "1006       2555            ENOGGERA  8098  \n",
       "1007       3061            HAMILTON  8099  \n",
       "1008       2780            HAMILTON  8100  \n",
       "1009       3049              GRANGE  8103  \n",
       "1010       3044  ICB OFF HERSTON RD  8105  \n",
       "1011       3064           CHERMSIDE  8106  \n",
       "1012        NaN            TINGALPA  8578  \n",
       "1013        NaN              CARINA  8685  \n",
       "\n",
       "[1014 rows x 8 columns]"
      ]
     },
     "execution_count": 104,
     "metadata": {},
     "output_type": "execute_result"
    }
   ],
   "source": [
    "# let's create a dataframe with useful data from the intersection_locations_data\n",
    "df_locations  = pd.DataFrame.from_dict(intersection_locations_data)\n",
    "df_locations"
   ]
  },
  {
   "cell_type": "code",
   "execution_count": 105,
   "metadata": {
    "collapsed": false
   },
   "outputs": [],
   "source": [
    "#let's remove all the unnecessary information\n",
    "df_locations_filtered = df_locations.drop(['areaNum','arms','coordinates','scatsVersion'],axis=1)\n",
    "\n",
    "#let's rename subsystem column ss to match same column name in volume table\n",
    "df_locations_filtered = df_locations_filtered.rename(columns={'subsystem':'ss'})"
   ]
  },
  {
   "cell_type": "code",
   "execution_count": 106,
   "metadata": {
    "collapsed": false
   },
   "outputs": [
    {
     "data": {
      "text/plain": [
       "Index(['ct', 'dbid', 'ds1', 'ds2', 'ds3', 'ds4', 'lane', 'link_plan',\n",
       "       'married', 'mf1', 'mf2', 'mf3', 'mf4', 'recorded', 'rf1', 'rf2', 'rf3',\n",
       "       'rf4', 'ss', 'tsc'],\n",
       "      dtype='object')"
      ]
     },
     "execution_count": 106,
     "metadata": {},
     "output_type": "execute_result"
    }
   ],
   "source": [
    "# We do the same for the volume dictionary\n",
    "df_volumes = pd.DataFrame.from_dict(intersection_volumes_data)\n",
    "\n",
    "# Let's check the traffic volumes dataframe columns\n",
    "df_volumes.columns"
   ]
  },
  {
   "cell_type": "code",
   "execution_count": 107,
   "metadata": {
    "collapsed": false
   },
   "outputs": [],
   "source": [
    "# filter the useful information and select the average occupancy percentage and id \n",
    "df_volumes_filtered = df_volumes.filter(['ds1','ds2','ds3','ds4','tsc', 'ss'])\n",
    "\n",
    "#We can now identify many input for the same  ss & tsc values so we need to calculate the average for each  ss && tsc \n",
    "# so let's group by 'tsc' && 'ss'\n",
    "df_volumes_filtered_grouped = df_volumes_filtered.groupby([ 'tsc', 'ss']).mean()\n",
    "\n",
    "# we caluclate the average for all lanes\n",
    "df_volumes_filtered_grouped['Avg Occ']=df_volumes_filtered_grouped[['ds1','ds2','ds3','ds4']].mean(axis=1)\n",
    "#remove the value per lane and keep the average\n",
    "df_volumes_filtered_grouped =df_volumes_filtered_grouped.drop(['ds1','ds2','ds3','ds4'],axis=1)\n",
    "\n",
    "# reset tsc as a column\n",
    "df_volumes_filtered_grouped=df_volumes_filtered_grouped.reset_index()"
   ]
  },
  {
   "cell_type": "code",
   "execution_count": 108,
   "metadata": {
    "collapsed": false
   },
   "outputs": [],
   "source": [
    "#We Check the list of suburb locations and we put the names in Upper case in order to fit with intersection subrubs\n",
    "suburbs['suburb'] = suburbs['suburb'].str.upper() "
   ]
  },
  {
   "cell_type": "code",
   "execution_count": 109,
   "metadata": {
    "collapsed": false
   },
   "outputs": [],
   "source": [
    "# we create one table by merging the locations and volume table\n",
    "df_final = pd.merge(df_volumes_filtered_grouped, df_locations_filtered,  how='inner', left_on=['ss','tsc'], right_on = ['ss','tsc'])\n",
    "df_final =df_final.drop(['tsc','ss'],axis=1)\n",
    "df_final_grouped = df_final.groupby(['region','suburb']).mean()\n",
    "df_final_grouped =df_final_grouped.reset_index()"
   ]
  },
  {
   "cell_type": "code",
   "execution_count": 110,
   "metadata": {
    "collapsed": false
   },
   "outputs": [
    {
     "data": {
      "text/html": [
       "<div>\n",
       "<table border=\"1\" class=\"dataframe\">\n",
       "  <thead>\n",
       "    <tr style=\"text-align: right;\">\n",
       "      <th></th>\n",
       "      <th>Area</th>\n",
       "      <th>Avg Occ</th>\n",
       "    </tr>\n",
       "  </thead>\n",
       "  <tbody>\n",
       "    <tr>\n",
       "      <th>0</th>\n",
       "      <td>Bayside</td>\n",
       "      <td>1.459167</td>\n",
       "    </tr>\n",
       "    <tr>\n",
       "      <th>4</th>\n",
       "      <td>Inner North</td>\n",
       "      <td>7.977205</td>\n",
       "    </tr>\n",
       "    <tr>\n",
       "      <th>5</th>\n",
       "      <td>Inner South</td>\n",
       "      <td>6.578133</td>\n",
       "    </tr>\n",
       "    <tr>\n",
       "      <th>8</th>\n",
       "      <td>Western Suburb</td>\n",
       "      <td>5.415022</td>\n",
       "    </tr>\n",
       "  </tbody>\n",
       "</table>\n",
       "</div>"
      ],
      "text/plain": [
       "             Area   Avg Occ\n",
       "0        Bayside   1.459167\n",
       "4     Inner North  7.977205\n",
       "5     Inner South  6.578133\n",
       "8  Western Suburb  5.415022"
      ]
     },
     "execution_count": 110,
     "metadata": {},
     "output_type": "execute_result"
    }
   ],
   "source": [
    "#classify each suburb in the corresponding area by merging the surub dataframe with df_final_grouped\n",
    "df_final_area = pd.merge(df_final_grouped, suburbs,  how='left', left_on=['suburb'], right_on = ['suburb'])\n",
    "\n",
    "#Group the data by areas and show the table\n",
    "df_final_area_grouped = df_final_area.groupby(['Area']).mean()\n",
    "df_final_area_grouped = df_final_area_grouped.reset_index()\n",
    "\n",
    "#Filter The list of Areas to be checked based on the client request\n",
    "List_Areas=['Bayside ','Inner North','Inner South' , 'Western Suburb' ]\n",
    "df_final_area_grouped = df_final_area_grouped[df_final_area_grouped['Area'].isin(List_Areas)]\n",
    "df_final_area_grouped"
   ]
  },
  {
   "cell_type": "code",
   "execution_count": 111,
   "metadata": {
    "colab": {},
    "colab_type": "code",
    "collapsed": true,
    "executionInfo": {
     "elapsed": 868,
     "status": "ok",
     "timestamp": 1598019493989,
     "user": {
      "displayName": "elias zgheib",
      "photoUrl": "",
      "userId": "06452864583585306483"
     },
     "user_tz": -120
    },
    "id": "ExyvUj888Ql1"
   },
   "outputs": [],
   "source": [
    "# In order to visualise the intersection on maps we create this function \n",
    "# to identify for a given intersection id what is the traffic volume for lane 1\n",
    "def traffic_ds1(ss,tsc):\n",
    "    for record in intersection_volumes_data:\n",
    "        if ((record['ss'] == ss) and (record['tsc'] == tsc)):\n",
    "            return record['ds1']\n",
    "    return None\n",
    "\n",
    "# For visualization purpose we create this function in order to create a vector of longitude and latitude for each intersection\n",
    "\n",
    "def item_lat_lng(item):\n",
    "    return [item['coordinates']['latLng']['latitude'], item['coordinates']['latLng']['longitude']]"
   ]
  },
  {
   "cell_type": "markdown",
   "metadata": {
    "colab_type": "text",
    "id": "jcCMCBTm8Ql5"
   },
   "source": [
    "### [4] Visualisation"
   ]
  },
  {
   "cell_type": "code",
   "execution_count": null,
   "metadata": {
    "colab": {
     "base_uri": "https://localhost:8080/",
     "height": 163
    },
    "colab_type": "code",
    "collapsed": false,
    "executionInfo": {
     "elapsed": 1386,
     "status": "ok",
     "timestamp": 1598019528112,
     "user": {
      "displayName": "elias zgheib",
      "photoUrl": "",
      "userId": "06452864583585306483"
     },
     "user_tz": -120
    },
    "id": "tIZDAq4a8Ql6",
    "outputId": "5d730a48-ee36-4e2c-e701-bef47c6dfb8f",
    "scrolled": true
   },
   "outputs": [],
   "source": [
    "# We set the Map settings\n",
    "\n",
    "map_of_intersections = folium.Map(\n",
    "    location=item_lat_lng(intersection_locations_data[0]),\n",
    "    zoom_start=11, tiles='Stamen Terrain'\n",
    ")\n",
    "\n",
    "# Then we add all the coordinates to the map from the intersection data.\n",
    "\n",
    "for coordinate in intersection_locations_data:\n",
    "    try:\n",
    "        density_reading = traffic_ds1(coordinate['subsystem'], coordinate['tsc'])\n",
    "        if (density_reading != None):\n",
    "            folium.Circle(\n",
    "                radius=density_reading*20,\n",
    "                location=item_lat_lng(coordinate),\n",
    "                color='crimson',\n",
    "                fill=True,\n",
    "                fill_opacity=0.3,\n",
    "                weight=0).add_to(map_of_intersections)\n",
    "    except:\n",
    "        pass\n",
    "map_of_intersections# Visualise the results"
   ]
  },
  {
   "cell_type": "code",
   "execution_count": 112,
   "metadata": {
    "collapsed": false
   },
   "outputs": [
    {
     "data": {
      "text/plain": [
       "<matplotlib.text.Text at 0x82dd7f0>"
      ]
     },
     "execution_count": 112,
     "metadata": {},
     "output_type": "execute_result"
    }
   ],
   "source": [
    "# We visualise the road occupancy (traffic volume) per Area\n",
    "df_final_area_grouped.plot(kind='bar')\n",
    "plt.title('Average Road Occupancy Per Area [%]')\n",
    "plt.xlabel('Area')\n",
    "plt.ylabel('Average Road Occupancy %')"
   ]
  },
  {
   "cell_type": "markdown",
   "metadata": {
    "colab_type": "text",
    "id": "pgYX8wUu8QmC"
   },
   "source": [
    "### [5] Insight"
   ]
  },
  {
   "cell_type": "markdown",
   "metadata": {
    "colab_type": "text",
    "id": "pAA7_Trk8QmG"
   },
   "source": [
    "We can conclude from the map that there are many spots with a concentration of high traffic volume, Brisbane (city center) , The inner north subrub (Windsor) , the inner south suburb and the western subrubs. \n",
    "\n",
    "In order to select the suburbs with highest traffic , we calculated the average occupancy of roads for each Areas and the \n",
    "displayed in a bar chart. We can identify that Brisbane **Inner north** and **Inner South** have the highest road occupancy. \n",
    "\n",
    "We recommand the client that these two areas  **Inner north** and **Inner South**  are the most interesting locations to open  drive-thru shops since they have the highest number of drivers , as a result the highest chance to have more customers."
   ]
  },
  {
   "cell_type": "markdown",
   "metadata": {},
   "source": [
    "##QDAVI data analytics cycle 2"
   ]
  },
  {
   "cell_type": "markdown",
   "metadata": {},
   "source": [
    "###  [1] Question 2"
   ]
  },
  {
   "cell_type": "markdown",
   "metadata": {},
   "source": [
    "**Where are located the competition ?  and how they are selling their common products?**\n",
    "\n",
    "We can check where the customers are located in order to identify the areas where already customers are used to come to buy from drive-thru coffee shops. Moreover if we have the avereage price of how they are selling the most consumed products (Latte, Cappucino , Flat White, Tea,...) will help the client to identify the best pricing for the beverage."
   ]
  },
  {
   "cell_type": "markdown",
   "metadata": {},
   "source": [
    "### [2] Data"
   ]
  },
  {
   "cell_type": "markdown",
   "metadata": {},
   "source": [
    "We did not find a database of the list of coffee shops in Brisbane, we created a short list by searching on google earth and we put the data in the file ListDriveThruCoffeeShop.csv"
   ]
  },
  {
   "cell_type": "code",
   "execution_count": 46,
   "metadata": {
    "collapsed": true
   },
   "outputs": [],
   "source": [
    "# read the drive thru coffee shops file  in a dataframe\n",
    "shops=pd.read_csv('ListDriveThruCoffeeShop.csv')"
   ]
  },
  {
   "cell_type": "markdown",
   "metadata": {},
   "source": [
    "###[3] Analysis"
   ]
  },
  {
   "cell_type": "code",
   "execution_count": 47,
   "metadata": {
    "collapsed": false
   },
   "outputs": [
    {
     "data": {
      "text/html": [
       "<div>\n",
       "<table border=\"1\" class=\"dataframe\">\n",
       "  <thead>\n",
       "    <tr style=\"text-align: right;\">\n",
       "      <th></th>\n",
       "      <th>Shop</th>\n",
       "      <th>Suburb</th>\n",
       "      <th>Area</th>\n",
       "      <th>Latte Small</th>\n",
       "      <th>Cappucino Small</th>\n",
       "      <th>Flat White Small</th>\n",
       "      <th>Tea</th>\n",
       "    </tr>\n",
       "  </thead>\n",
       "  <tbody>\n",
       "    <tr>\n",
       "      <th>0</th>\n",
       "      <td>Zarrafa</td>\n",
       "      <td>Cannon Hill</td>\n",
       "      <td>Eastern suburbs</td>\n",
       "      <td>4.0</td>\n",
       "      <td>4.0</td>\n",
       "      <td>4.0</td>\n",
       "      <td>4.0</td>\n",
       "    </tr>\n",
       "    <tr>\n",
       "      <th>1</th>\n",
       "      <td>Wicked Brew</td>\n",
       "      <td>Cannon Hill</td>\n",
       "      <td>Eastern suburbs</td>\n",
       "      <td>4.2</td>\n",
       "      <td>4.2</td>\n",
       "      <td>4.2</td>\n",
       "      <td>3.0</td>\n",
       "    </tr>\n",
       "    <tr>\n",
       "      <th>2</th>\n",
       "      <td>The Coffee Club</td>\n",
       "      <td>Tingalpa</td>\n",
       "      <td>Eastern suburbs</td>\n",
       "      <td>4.2</td>\n",
       "      <td>4.2</td>\n",
       "      <td>4.2</td>\n",
       "      <td>4.2</td>\n",
       "    </tr>\n",
       "    <tr>\n",
       "      <th>3</th>\n",
       "      <td>Merlo Coffee Fortitude Valley Torrefazione</td>\n",
       "      <td>Fortitude Valley</td>\n",
       "      <td>Northern suburbs</td>\n",
       "      <td>4.0</td>\n",
       "      <td>4.0</td>\n",
       "      <td>4.0</td>\n",
       "      <td>4.0</td>\n",
       "    </tr>\n",
       "    <tr>\n",
       "      <th>4</th>\n",
       "      <td>Zarrafa</td>\n",
       "      <td>Hendra</td>\n",
       "      <td>Northern suburbs</td>\n",
       "      <td>4.0</td>\n",
       "      <td>4.0</td>\n",
       "      <td>4.0</td>\n",
       "      <td>4.0</td>\n",
       "    </tr>\n",
       "    <tr>\n",
       "      <th>5</th>\n",
       "      <td>Zarrafa</td>\n",
       "      <td>Keperra</td>\n",
       "      <td>Western suburbs</td>\n",
       "      <td>4.0</td>\n",
       "      <td>4.0</td>\n",
       "      <td>4.0</td>\n",
       "      <td>4.0</td>\n",
       "    </tr>\n",
       "    <tr>\n",
       "      <th>6</th>\n",
       "      <td>Zarrafa</td>\n",
       "      <td>Boondall</td>\n",
       "      <td>Northern suburbs</td>\n",
       "      <td>4.0</td>\n",
       "      <td>4.0</td>\n",
       "      <td>4.0</td>\n",
       "      <td>4.0</td>\n",
       "    </tr>\n",
       "    <tr>\n",
       "      <th>7</th>\n",
       "      <td>Inbound Espresso</td>\n",
       "      <td>Lutwyche</td>\n",
       "      <td>Northern suburbs</td>\n",
       "      <td>4.0</td>\n",
       "      <td>4.0</td>\n",
       "      <td>4.0</td>\n",
       "      <td>4.0</td>\n",
       "    </tr>\n",
       "    <tr>\n",
       "      <th>8</th>\n",
       "      <td>Taste My Bean</td>\n",
       "      <td>Geebung</td>\n",
       "      <td>Northern suburbs</td>\n",
       "      <td>3.9</td>\n",
       "      <td>3.9</td>\n",
       "      <td>3.9</td>\n",
       "      <td>3.9</td>\n",
       "    </tr>\n",
       "    <tr>\n",
       "      <th>9</th>\n",
       "      <td>Zarrafa</td>\n",
       "      <td>Richlands</td>\n",
       "      <td>Western suburbs</td>\n",
       "      <td>4.0</td>\n",
       "      <td>4.0</td>\n",
       "      <td>4.0</td>\n",
       "      <td>4.0</td>\n",
       "    </tr>\n",
       "    <tr>\n",
       "      <th>10</th>\n",
       "      <td>Zarrafa</td>\n",
       "      <td>Heathwood</td>\n",
       "      <td>Heathwood suburbs</td>\n",
       "      <td>4.0</td>\n",
       "      <td>4.0</td>\n",
       "      <td>4.0</td>\n",
       "      <td>4.0</td>\n",
       "    </tr>\n",
       "    <tr>\n",
       "      <th>11</th>\n",
       "      <td>Gloria Jeans</td>\n",
       "      <td>Moorooka</td>\n",
       "      <td>Southern suburbs</td>\n",
       "      <td>4.8</td>\n",
       "      <td>4.8</td>\n",
       "      <td>4.8</td>\n",
       "      <td>4.1</td>\n",
       "    </tr>\n",
       "    <tr>\n",
       "      <th>12</th>\n",
       "      <td>Gloria Jeans</td>\n",
       "      <td>Coopers Plains</td>\n",
       "      <td>Southern suburbs</td>\n",
       "      <td>4.8</td>\n",
       "      <td>4.8</td>\n",
       "      <td>4.8</td>\n",
       "      <td>4.1</td>\n",
       "    </tr>\n",
       "    <tr>\n",
       "      <th>13</th>\n",
       "      <td>The Coffee Club Cafe</td>\n",
       "      <td>Redland Bay</td>\n",
       "      <td>Bayside suburbs</td>\n",
       "      <td>4.0</td>\n",
       "      <td>4.0</td>\n",
       "      <td>4.0</td>\n",
       "      <td>4.0</td>\n",
       "    </tr>\n",
       "  </tbody>\n",
       "</table>\n",
       "</div>"
      ],
      "text/plain": [
       "                                          Shop            Suburb  \\\n",
       "0                                      Zarrafa       Cannon Hill   \n",
       "1                                  Wicked Brew       Cannon Hill   \n",
       "2                              The Coffee Club          Tingalpa   \n",
       "3   Merlo Coffee Fortitude Valley Torrefazione  Fortitude Valley   \n",
       "4                                      Zarrafa            Hendra   \n",
       "5                                      Zarrafa           Keperra   \n",
       "6                                      Zarrafa          Boondall   \n",
       "7                             Inbound Espresso          Lutwyche   \n",
       "8                                Taste My Bean           Geebung   \n",
       "9                                      Zarrafa         Richlands   \n",
       "10                                     Zarrafa         Heathwood   \n",
       "11                                Gloria Jeans          Moorooka   \n",
       "12                                Gloria Jeans    Coopers Plains   \n",
       "13                        The Coffee Club Cafe       Redland Bay   \n",
       "\n",
       "                 Area  Latte Small  Cappucino Small  Flat White Small  Tea  \n",
       "0     Eastern suburbs          4.0              4.0               4.0  4.0  \n",
       "1     Eastern suburbs          4.2              4.2               4.2  3.0  \n",
       "2     Eastern suburbs          4.2              4.2               4.2  4.2  \n",
       "3    Northern suburbs          4.0              4.0               4.0  4.0  \n",
       "4    Northern suburbs          4.0              4.0               4.0  4.0  \n",
       "5     Western suburbs          4.0              4.0               4.0  4.0  \n",
       "6    Northern suburbs          4.0              4.0               4.0  4.0  \n",
       "7    Northern suburbs          4.0              4.0               4.0  4.0  \n",
       "8    Northern suburbs          3.9              3.9               3.9  3.9  \n",
       "9     Western suburbs          4.0              4.0               4.0  4.0  \n",
       "10  Heathwood suburbs          4.0              4.0               4.0  4.0  \n",
       "11   Southern suburbs          4.8              4.8               4.8  4.1  \n",
       "12   Southern suburbs          4.8              4.8               4.8  4.1  \n",
       "13    Bayside suburbs          4.0              4.0               4.0  4.0  "
      ]
     },
     "execution_count": 47,
     "metadata": {},
     "output_type": "execute_result"
    }
   ],
   "source": [
    "# We check the dataframe data columns\n",
    "shops"
   ]
  },
  {
   "cell_type": "code",
   "execution_count": 50,
   "metadata": {
    "collapsed": false
   },
   "outputs": [
    {
     "data": {
      "text/html": [
       "<div>\n",
       "<table border=\"1\" class=\"dataframe\">\n",
       "  <thead>\n",
       "    <tr style=\"text-align: right;\">\n",
       "      <th></th>\n",
       "      <th>Area</th>\n",
       "      <th>Shop</th>\n",
       "    </tr>\n",
       "  </thead>\n",
       "  <tbody>\n",
       "    <tr>\n",
       "      <th>0</th>\n",
       "      <td>Bayside suburbs</td>\n",
       "      <td>1</td>\n",
       "    </tr>\n",
       "    <tr>\n",
       "      <th>3</th>\n",
       "      <td>Northern suburbs</td>\n",
       "      <td>5</td>\n",
       "    </tr>\n",
       "    <tr>\n",
       "      <th>4</th>\n",
       "      <td>Southern suburbs</td>\n",
       "      <td>2</td>\n",
       "    </tr>\n",
       "    <tr>\n",
       "      <th>5</th>\n",
       "      <td>Western suburbs</td>\n",
       "      <td>2</td>\n",
       "    </tr>\n",
       "  </tbody>\n",
       "</table>\n",
       "</div>"
      ],
      "text/plain": [
       "               Area  Shop\n",
       "0   Bayside suburbs     1\n",
       "3  Northern suburbs     5\n",
       "4  Southern suburbs     2\n",
       "5   Western suburbs     2"
      ]
     },
     "execution_count": 50,
     "metadata": {},
     "output_type": "execute_result"
    }
   ],
   "source": [
    "# We count the number of drive thru shops in Brisbane city and group them by Location\n",
    "shop_count=shops.groupby(['Area'])['Shop'].count()\n",
    "shop_count =shop_count.reset_index()\n",
    "\n",
    "List_Areas=['Western suburbs','Southern suburbs' , 'Northern suburbs' ,'Bayside suburbs']\n",
    "shop_count = shop_count[shop_count['Area'].isin(List_Areas)]\n",
    "shop_count"
   ]
  },
  {
   "cell_type": "code",
   "execution_count": 51,
   "metadata": {
    "collapsed": false
   },
   "outputs": [
    {
     "data": {
      "text/plain": [
       "Latte Small         4.135714\n",
       "Cappucino Small     4.135714\n",
       "Flat White Small    4.135714\n",
       "Tea                 3.950000\n",
       "dtype: float64"
      ]
     },
     "execution_count": 51,
     "metadata": {},
     "output_type": "execute_result"
    }
   ],
   "source": [
    "#We calculate the average cost of classic hot beverages in Brisbane\n",
    "Avg_Beverage_Cost=shops[['Latte Small','Cappucino Small','Flat White Small','Tea']].mean()\n",
    "Avg_Beverage_Cost"
   ]
  },
  {
   "cell_type": "markdown",
   "metadata": {},
   "source": [
    "###[4] Visualisation"
   ]
  },
  {
   "cell_type": "code",
   "execution_count": 52,
   "metadata": {
    "collapsed": false
   },
   "outputs": [
    {
     "data": {
      "text/plain": [
       "<matplotlib.text.Text at 0x9082c50>"
      ]
     },
     "execution_count": 52,
     "metadata": {},
     "output_type": "execute_result"
    }
   ],
   "source": [
    "# we can now visualise the  number of drive-thru shops per subur\n",
    "shop_count.plot(kind='bar')\n",
    "plt.title(\"Number of Drive-thru coffe shops\")"
   ]
  },
  {
   "cell_type": "code",
   "execution_count": 53,
   "metadata": {
    "collapsed": false,
    "scrolled": false
   },
   "outputs": [
    {
     "data": {
      "text/plain": [
       "<matplotlib.text.Text at 0x9082c50>"
      ]
     },
     "execution_count": 53,
     "metadata": {},
     "output_type": "execute_result"
    }
   ],
   "source": [
    "# let's visualise the data on a graph\n",
    "Avg_Beverage_Cost.plot(kind='bar' )\n",
    "plt.title(' Average cost of small beverages for Brisbane drive-thru coffee shops')"
   ]
  },
  {
   "cell_type": "markdown",
   "metadata": {},
   "source": [
    "### [5] Insight"
   ]
  },
  {
   "cell_type": "markdown",
   "metadata": {},
   "source": [
    "From visualisation we can identify that the existing drive thru coffee shops are concentrated in inner north , south suburbs and western suburbs have both two drive-thru coffee shops. Please note that this result is a very first insight because we don't have an exhaustive list of drive-thru coffee shops in Brisbane.\n",
    "\n",
    "In terms of marketing we identified that common beverages like (Latte, Flat White, Cappucino) are priced in average 4.1 AUD in average this could give a first insight for our client to identify the best pricing strategy. "
   ]
  },
  {
   "cell_type": "markdown",
   "metadata": {},
   "source": [
    "##QDAVI data analytics cycle 3"
   ]
  },
  {
   "cell_type": "markdown",
   "metadata": {},
   "source": [
    "###  [1] Question 3 "
   ]
  },
  {
   "cell_type": "markdown",
   "metadata": {},
   "source": [
    "** What is the number of schools in each area?** \n",
    "\n",
    "Busy parents are target customers of Drive-thru coffee so it is an advantage to open a drive-thru coffee shop near the schools. In order to target parents who are driving their children to school, let's check which Area have the highest number of schools (state and non-state)"
   ]
  },
  {
   "cell_type": "markdown",
   "metadata": {},
   "source": [
    "### [2] Data"
   ]
  },
  {
   "cell_type": "code",
   "execution_count": 53,
   "metadata": {
    "collapsed": false
   },
   "outputs": [],
   "source": [
    "# We read  the data from a csv file\n",
    "df_schools = pd.read_csv('CentreDetails_May_2020.csv')"
   ]
  },
  {
   "cell_type": "code",
   "execution_count": 57,
   "metadata": {
    "collapsed": false
   },
   "outputs": [
    {
     "data": {
      "text/plain": [
       "Index(['Centre Code', 'Centre Name', 'Centre Type', 'Centre Status',\n",
       "       'Host Centre Code', 'Host Centre Name', 'Official Low Year Level',\n",
       "       'Official High Year Level', 'Officer In Charge Title', 'School Band',\n",
       "       'Show Holiday Date', 'Internet Site', 'Phone Number',\n",
       "       'Restrict Contact Outside Teaching Hours', 'Fax Number',\n",
       "       'Actual Address Line 1', 'Actual Address Line 2',\n",
       "       'Actual Address Line 3', 'Actual Address Post Code',\n",
       "       'Postal Address Line 1', 'Postal Address Line 2',\n",
       "       'Postal Address Line 3', 'Postal Address Post Code',\n",
       "       'Education Geographic Region', 'Federal Electorate', 'State Electorate',\n",
       "       'Local Government Area', 'Statistical Area Level2',\n",
       "       'Statistical Area Level2 Code', 'Remoteness Area',\n",
       "       'Enrolment Effective Date', 'All Student Count',\n",
       "       'Campus All Student Count', 'ABN', 'Sector', 'Non-State Sector',\n",
       "       'Longitude', 'Latitude'],\n",
       "      dtype='object')"
      ]
     },
     "execution_count": 57,
     "metadata": {},
     "output_type": "execute_result"
    }
   ],
   "source": [
    "#We check the content of the file\n",
    "df_schools.columns"
   ]
  },
  {
   "cell_type": "markdown",
   "metadata": {},
   "source": [
    "### [3] Analysis"
   ]
  },
  {
   "cell_type": "code",
   "execution_count": 113,
   "metadata": {
    "collapsed": true
   },
   "outputs": [],
   "source": [
    "# We will select the important information that we need\n",
    "Select_List = ['Centre Name', 'Actual Address Line 2',\n",
    "       'Actual Address Line 3', 'Actual Address Post Code','All Student Count','Local Government Area']\n",
    "\n",
    "df_schools = df_schools.filter(Select_List,axis=1)"
   ]
  },
  {
   "cell_type": "code",
   "execution_count": 114,
   "metadata": {
    "collapsed": false
   },
   "outputs": [],
   "source": [
    "# We select only Brisbane schools by filtering Local Government Area\n",
    "df_schools_Brisbane = df_schools[df_schools['Local Government Area']=='Brisbane (C)']"
   ]
  },
  {
   "cell_type": "code",
   "execution_count": null,
   "metadata": {
    "collapsed": false,
    "scrolled": true
   },
   "outputs": [],
   "source": [
    "# We set the subrub column as an  upper case from the address line 3\n",
    "df_schools_Brisbane['Suburb']=df_schools_Brisbane['Actual Address Line 3'].str.upper()"
   ]
  },
  {
   "cell_type": "code",
   "execution_count": 116,
   "metadata": {
    "collapsed": false
   },
   "outputs": [
    {
     "data": {
      "text/plain": [
       "array([], dtype=object)"
      ]
     },
     "execution_count": 116,
     "metadata": {},
     "output_type": "execute_result"
    }
   ],
   "source": [
    "# We add the subrub area information to the dataframe\n",
    "df_Schools_Brisbane_WithArea =  pd.merge(df_schools_Brisbane, suburbs,  how='left', left_on=['Suburb'], right_on = ['suburb'])"
   ]
  },
  {
   "cell_type": "code",
   "execution_count": 118,
   "metadata": {
    "collapsed": true
   },
   "outputs": [],
   "source": [
    "# We Group schools by Area\n",
    "# We count the number of schools per Area\n",
    "df_Schools_grouped_count= df_Schools_Brisbane_WithArea.groupby(['Area'])['Centre Name'].count()\n",
    "\n",
    "# We count the number of students per Area\n",
    "df_NbStudents_grouped= df_Schools_Brisbane_WithArea.groupby(['Area'])['All Student Count'].sum()"
   ]
  },
  {
   "cell_type": "code",
   "execution_count": 137,
   "metadata": {
    "collapsed": false
   },
   "outputs": [
    {
     "data": {
      "text/plain": [
       "<bound method Series.reset_index of Area\n",
       "Bayside            22\n",
       "City               10\n",
       "Eastern Suburb      5\n",
       "Inner East         18\n",
       "Inner North        23\n",
       "Inner South        35\n",
       "Inner West          1\n",
       "Northern Suburb    55\n",
       "Southern Suburb    87\n",
       "Western Suburb     56\n",
       "Name: Centre Name, dtype: int64>"
      ]
     },
     "execution_count": 137,
     "metadata": {},
     "output_type": "execute_result"
    }
   ],
   "source": [
    "df_Schools_grouped_count.reset_index"
   ]
  },
  {
   "cell_type": "code",
   "execution_count": 142,
   "metadata": {
    "collapsed": false
   },
   "outputs": [],
   "source": [
    "# let's filter with areas requested \n",
    "List_Areas=['Bayside ','Inner North','Inner South' , 'Western Suburb' ]\n",
    "Count_Schools_PerArea = df_Schools_grouped_count[List_Areas]\n",
    "Nb_Students_PerArea =  df_NbStudents_grouped[List_Areas]"
   ]
  },
  {
   "cell_type": "code",
   "execution_count": 143,
   "metadata": {
    "collapsed": false
   },
   "outputs": [
    {
     "data": {
      "text/plain": [
       "Area\n",
       "Bayside           22\n",
       "Inner North       23\n",
       "Inner South       35\n",
       "Western Suburb    56\n",
       "Name: Centre Name, dtype: int64"
      ]
     },
     "execution_count": 143,
     "metadata": {},
     "output_type": "execute_result"
    }
   ],
   "source": [
    "Count_Schools_PerArea"
   ]
  },
  {
   "cell_type": "code",
   "execution_count": 144,
   "metadata": {
    "collapsed": false
   },
   "outputs": [
    {
     "data": {
      "text/plain": [
       "Area\n",
       "Bayside            7509\n",
       "Inner North        9871\n",
       "Inner South       15820\n",
       "Western Suburb    28421\n",
       "Name: All Student Count, dtype: float64"
      ]
     },
     "execution_count": 144,
     "metadata": {},
     "output_type": "execute_result"
    }
   ],
   "source": [
    "Nb_Students_PerArea"
   ]
  },
  {
   "cell_type": "markdown",
   "metadata": {},
   "source": [
    "### [4] Visualisation"
   ]
  },
  {
   "cell_type": "code",
   "execution_count": 139,
   "metadata": {
    "collapsed": false
   },
   "outputs": [
    {
     "data": {
      "text/plain": [
       "<matplotlib.axes._subplots.AxesSubplot at 0x7d05a90>"
      ]
     },
     "execution_count": 139,
     "metadata": {},
     "output_type": "execute_result"
    }
   ],
   "source": [
    "# Visualisation of number of schools\n",
    "Count_Schools_PerArea.plot(kind='bar')\n",
    "plt.title('Number of Schools per Area')\n",
    "plt.xlabel('Area')\n",
    "plt.ylabel('Number of schools')"
   ]
  },
  {
   "cell_type": "code",
   "execution_count": 147,
   "metadata": {
    "collapsed": false
   },
   "outputs": [
    {
     "data": {
      "text/plain": [
       "<matplotlib.text.Text at 0x82dd7f0>"
      ]
     },
     "execution_count": 147,
     "metadata": {},
     "output_type": "execute_result"
    }
   ],
   "source": [
    "# Visualisation of number of students per Area\n",
    "Nb_Students_PerArea.plot(kind='bar')\n",
    "plt.title('Number of Students in Schools per Area')\n",
    "plt.xlabel('Area')\n",
    "plt.ylabel('Number of students in schools')"
   ]
  },
  {
   "cell_type": "markdown",
   "metadata": {},
   "source": [
    "### [5] Insight"
   ]
  },
  {
   "cell_type": "markdown",
   "metadata": {},
   "source": [
    "From the visualisation part we can see that **Inner South** has more schools and more students compared to **Inner North** . And **Western suburbs** has biggest number of schools and students since it covers a wider geographical area."
   ]
  }
 ],
 "metadata": {
  "colab": {
   "name": "assignment1-partB-1.1.ipynb",
   "provenance": []
  },
  "kernelspec": {
   "display_name": "Python 3",
   "language": "python",
   "name": "python3"
  },
  "language_info": {
   "codemirror_mode": {
    "name": "ipython",
    "version": 3
   },
   "file_extension": ".py",
   "mimetype": "text/x-python",
   "name": "python",
   "nbconvert_exporter": "python",
   "pygments_lexer": "ipython3",
   "version": "3.4.3"
  }
 },
 "nbformat": 4,
 "nbformat_minor": 0
}
